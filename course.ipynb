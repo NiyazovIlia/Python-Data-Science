{
  "nbformat": 4,
  "nbformat_minor": 0,
  "metadata": {
    "colab": {
      "name": "course.ipynb",
      "provenance": [],
      "collapsed_sections": [],
      "authorship_tag": "ABX9TyPJG3ynnTBv9cxDnQ6aqtgE",
      "include_colab_link": true
    },
    "kernelspec": {
      "name": "python3",
      "display_name": "Python 3"
    }
  },
  "cells": [
    {
      "cell_type": "markdown",
      "metadata": {
        "id": "view-in-github",
        "colab_type": "text"
      },
      "source": [
        "<a href=\"https://colab.research.google.com/github/NiyazovIlia/Python-Data-Science/blob/lesson-4/course.ipynb\" target=\"_parent\"><img src=\"https://colab.research.google.com/assets/colab-badge.svg\" alt=\"Open In Colab\"/></a>"
      ]
    },
    {
      "cell_type": "markdown",
      "metadata": {
        "id": "c0EoKZPjt33V"
      },
      "source": [
        "**Real_Estate_Price_Prediction**"
      ]
    },
    {
      "cell_type": "code",
      "metadata": {
        "colab": {
          "base_uri": "https://localhost:8080/"
        },
        "id": "UoOAmH5Utzk5",
        "outputId": "3b7e03e2-e33c-400f-c883-2ed3ca5a796e"
      },
      "source": [
        "import numpy as np\r\n",
        "import pandas as pd\r\n",
        "import matplotlib.pyplot as plt\r\n",
        "\r\n",
        "\r\n",
        "real_estate_price_prediction = pd.read_csv('Real_Estate_Price_Prediction.csv')\r\n",
        "real_estate_price_prediction.info()\r\n",
        "#real_estate_price_prediction.head()"
      ],
      "execution_count": 76,
      "outputs": [
        {
          "output_type": "stream",
          "text": [
            "<class 'pandas.core.frame.DataFrame'>\n",
            "RangeIndex: 10000 entries, 0 to 9999\n",
            "Data columns (total 20 columns):\n",
            " #   Column         Non-Null Count  Dtype  \n",
            "---  ------         --------------  -----  \n",
            " 0   Id             10000 non-null  int64  \n",
            " 1   DistrictId     10000 non-null  int64  \n",
            " 2   Rooms          10000 non-null  float64\n",
            " 3   Square         10000 non-null  float64\n",
            " 4   LifeSquare     7887 non-null   float64\n",
            " 5   KitchenSquare  10000 non-null  float64\n",
            " 6   Floor          10000 non-null  int64  \n",
            " 7   HouseFloor     10000 non-null  float64\n",
            " 8   HouseYear      10000 non-null  int64  \n",
            " 9   Ecology_1      10000 non-null  float64\n",
            " 10  Ecology_2      10000 non-null  object \n",
            " 11  Ecology_3      10000 non-null  object \n",
            " 12  Social_1       10000 non-null  int64  \n",
            " 13  Social_2       10000 non-null  int64  \n",
            " 14  Social_3       10000 non-null  int64  \n",
            " 15  Healthcare_1   5202 non-null   float64\n",
            " 16  Helthcare_2    10000 non-null  int64  \n",
            " 17  Shops_1        10000 non-null  int64  \n",
            " 18  Shops_2        10000 non-null  object \n",
            " 19  Price          10000 non-null  float64\n",
            "dtypes: float64(8), int64(9), object(3)\n",
            "memory usage: 1.5+ MB\n"
          ],
          "name": "stdout"
        }
      ]
    },
    {
      "cell_type": "code",
      "metadata": {
        "colab": {
          "base_uri": "https://localhost:8080/",
          "height": 555
        },
        "id": "PQ96jKFtyiuF",
        "outputId": "bd01d28e-8ab0-45bf-e395-42746d337a08"
      },
      "source": [
        "real_max = pd.DataFrame(real_estate_price_prediction[{'Id', 'DistrictId', 'Rooms', 'Square', 'LifeSquare', 'KitchenSquare',\r\n",
        "       'Floor', 'HouseFloor', 'HouseYear', 'Ecology_1', 'Social_1', 'Social_2', 'Social_3', 'Healthcare_1',\r\n",
        "       'Helthcare_2', 'Shops_1', 'Price'}].max(), dtype=np.int64).rename(columns={0:'real_max'})\r\n",
        "real_min = pd.DataFrame(real_estate_price_prediction[{'Id', 'DistrictId', 'Rooms', 'Square', 'LifeSquare', 'KitchenSquare',\r\n",
        "       'Floor', 'HouseFloor', 'HouseYear', 'Ecology_1', 'Social_1', 'Social_2', 'Social_3', 'Healthcare_1',\r\n",
        "       'Helthcare_2', 'Shops_1', 'Price'}].min(), dtype=np.int64).rename(columns={0:'real_min'})\r\n",
        "real_mean = pd.DataFrame(real_estate_price_prediction[{'Id', 'DistrictId', 'Rooms', 'Square', 'LifeSquare', 'KitchenSquare',\r\n",
        "       'Floor', 'HouseFloor', 'HouseYear', 'Ecology_1', 'Social_1', 'Social_2', 'Social_3', 'Healthcare_1',\r\n",
        "       'Helthcare_2', 'Shops_1', 'Price'}].mean(), dtype=np.int64).rename(columns={0:'real_mean'})\r\n",
        "real_new = pd.concat([real_max, real_min, real_mean], axis=1)\r\n",
        "real_new"
      ],
      "execution_count": 77,
      "outputs": [
        {
          "output_type": "execute_result",
          "data": {
            "text/html": [
              "<div>\n",
              "<style scoped>\n",
              "    .dataframe tbody tr th:only-of-type {\n",
              "        vertical-align: middle;\n",
              "    }\n",
              "\n",
              "    .dataframe tbody tr th {\n",
              "        vertical-align: top;\n",
              "    }\n",
              "\n",
              "    .dataframe thead th {\n",
              "        text-align: right;\n",
              "    }\n",
              "</style>\n",
              "<table border=\"1\" class=\"dataframe\">\n",
              "  <thead>\n",
              "    <tr style=\"text-align: right;\">\n",
              "      <th></th>\n",
              "      <th>real_max</th>\n",
              "      <th>real_min</th>\n",
              "      <th>real_mean</th>\n",
              "    </tr>\n",
              "  </thead>\n",
              "  <tbody>\n",
              "    <tr>\n",
              "      <th>Rooms</th>\n",
              "      <td>19</td>\n",
              "      <td>0</td>\n",
              "      <td>1</td>\n",
              "    </tr>\n",
              "    <tr>\n",
              "      <th>KitchenSquare</th>\n",
              "      <td>2014</td>\n",
              "      <td>0</td>\n",
              "      <td>6</td>\n",
              "    </tr>\n",
              "    <tr>\n",
              "      <th>Helthcare_2</th>\n",
              "      <td>6</td>\n",
              "      <td>0</td>\n",
              "      <td>1</td>\n",
              "    </tr>\n",
              "    <tr>\n",
              "      <th>Square</th>\n",
              "      <td>641</td>\n",
              "      <td>1</td>\n",
              "      <td>56</td>\n",
              "    </tr>\n",
              "    <tr>\n",
              "      <th>Floor</th>\n",
              "      <td>42</td>\n",
              "      <td>1</td>\n",
              "      <td>8</td>\n",
              "    </tr>\n",
              "    <tr>\n",
              "      <th>DistrictId</th>\n",
              "      <td>209</td>\n",
              "      <td>0</td>\n",
              "      <td>50</td>\n",
              "    </tr>\n",
              "    <tr>\n",
              "      <th>HouseYear</th>\n",
              "      <td>20052011</td>\n",
              "      <td>1910</td>\n",
              "      <td>3990</td>\n",
              "    </tr>\n",
              "    <tr>\n",
              "      <th>Ecology_1</th>\n",
              "      <td>0</td>\n",
              "      <td>0</td>\n",
              "      <td>0</td>\n",
              "    </tr>\n",
              "    <tr>\n",
              "      <th>Social_2</th>\n",
              "      <td>19083</td>\n",
              "      <td>168</td>\n",
              "      <td>5352</td>\n",
              "    </tr>\n",
              "    <tr>\n",
              "      <th>Shops_1</th>\n",
              "      <td>23</td>\n",
              "      <td>0</td>\n",
              "      <td>4</td>\n",
              "    </tr>\n",
              "    <tr>\n",
              "      <th>Social_1</th>\n",
              "      <td>74</td>\n",
              "      <td>0</td>\n",
              "      <td>24</td>\n",
              "    </tr>\n",
              "    <tr>\n",
              "      <th>Price</th>\n",
              "      <td>633233</td>\n",
              "      <td>59174</td>\n",
              "      <td>214138</td>\n",
              "    </tr>\n",
              "    <tr>\n",
              "      <th>HouseFloor</th>\n",
              "      <td>117</td>\n",
              "      <td>0</td>\n",
              "      <td>12</td>\n",
              "    </tr>\n",
              "    <tr>\n",
              "      <th>Healthcare_1</th>\n",
              "      <td>4849</td>\n",
              "      <td>0</td>\n",
              "      <td>1142</td>\n",
              "    </tr>\n",
              "    <tr>\n",
              "      <th>Social_3</th>\n",
              "      <td>141</td>\n",
              "      <td>0</td>\n",
              "      <td>8</td>\n",
              "    </tr>\n",
              "    <tr>\n",
              "      <th>LifeSquare</th>\n",
              "      <td>7480</td>\n",
              "      <td>0</td>\n",
              "      <td>37</td>\n",
              "    </tr>\n",
              "    <tr>\n",
              "      <th>Id</th>\n",
              "      <td>16798</td>\n",
              "      <td>0</td>\n",
              "      <td>8383</td>\n",
              "    </tr>\n",
              "  </tbody>\n",
              "</table>\n",
              "</div>"
            ],
            "text/plain": [
              "               real_max  real_min  real_mean\n",
              "Rooms                19         0          1\n",
              "KitchenSquare      2014         0          6\n",
              "Helthcare_2           6         0          1\n",
              "Square              641         1         56\n",
              "Floor                42         1          8\n",
              "DistrictId          209         0         50\n",
              "HouseYear      20052011      1910       3990\n",
              "Ecology_1             0         0          0\n",
              "Social_2          19083       168       5352\n",
              "Shops_1              23         0          4\n",
              "Social_1             74         0         24\n",
              "Price            633233     59174     214138\n",
              "HouseFloor          117         0         12\n",
              "Healthcare_1       4849         0       1142\n",
              "Social_3            141         0          8\n",
              "LifeSquare         7480         0         37\n",
              "Id                16798         0       8383"
            ]
          },
          "metadata": {
            "tags": []
          },
          "execution_count": 77
        }
      ]
    },
    {
      "cell_type": "code",
      "metadata": {
        "colab": {
          "base_uri": "https://localhost:8080/"
        },
        "id": "WDumTQ920W9M",
        "outputId": "34887ffd-3a69-4d52-bd0b-d0012b6b1313"
      },
      "source": [
        "real_estate_price_prediction.value_counts()"
      ],
      "execution_count": 78,
      "outputs": [
        {
          "output_type": "execute_result",
          "data": {
            "text/plain": [
              "Id     DistrictId  Rooms  Square      LifeSquare  KitchenSquare  Floor  HouseFloor  HouseYear  Ecology_1     Ecology_2  Ecology_3  Social_1  Social_2  Social_3  Healthcare_1  Helthcare_2  Shops_1  Shops_2  Price        \n",
              "16798  22          1.0    39.956966   19.874715   8.0            2      17.0        1989       1.332153e-01  B          B          49        11395     3         1406.0        3            4        A        183467.407815    1\n",
              "5579   90          2.0    52.512769   30.133454   8.0            16     17.0        1988       2.460315e-01  B          A          22        3151      4         2715.0        3            3        B        314948.199380    1\n",
              "5569   118         4.0    100.243221  67.756645   8.0            4      9.0         1964       2.184397e-01  B          B          21        4472      6         1450.0        4            7        A        482603.543577    1\n",
              "5570   140         1.0    39.702308   22.236080   8.0            10     12.0        2001       2.386171e-01  B          B          26        3889      6         705.0         3            6        B        220719.575850    1\n",
              "5572   1           1.0    40.238902   22.746541   10.0           7      22.0        1990       2.560916e-02  B          B          33        5261      0         240.0         3            1        B        149711.779021    1\n",
              "                                                                                                                                                                                                                              ..\n",
              "11133  111         2.0    64.117904   38.336145   10.0           7      18.0        2007       9.344256e-02  B          B          23        4635      5         3300.0        2            4        B        375823.723213    1\n",
              "11125  8           1.0    36.288029   25.891884   5.0            2      5.0         1962       4.378852e-01  B          B          23        5735      3         1084.0        0            5        B        136477.724311    1\n",
              "11123  3           3.0    59.991617   46.868066   5.0            8      12.0        1974       5.090006e-02  B          B          43        10621     1         30.0          2            3        B        214254.554142    1\n",
              "11120  207         3.0    76.780960   55.770043   7.0            2      5.0         1931       1.800000e-09  B          B          16        3681      73        1815.0        2            5        B        426186.409334    1\n",
              "0      0           1.0    109.144492  84.613939   15.0           6      15.0        2011       3.198094e-01  B          B          25        4756      16        2857.0        5            8        B        289034.391871    1\n",
              "Length: 4457, dtype: int64"
            ]
          },
          "metadata": {
            "tags": []
          },
          "execution_count": 78
        }
      ]
    },
    {
      "cell_type": "code",
      "metadata": {
        "colab": {
          "base_uri": "https://localhost:8080/",
          "height": 645
        },
        "id": "mgwBpj0R04_z",
        "outputId": "beaa7a21-98cd-4f04-c180-ba9029f16c25"
      },
      "source": [
        "real_null = pd.DataFrame(real_estate_price_prediction.isnull().sum())\r\n",
        "real_null"
      ],
      "execution_count": 79,
      "outputs": [
        {
          "output_type": "execute_result",
          "data": {
            "text/html": [
              "<div>\n",
              "<style scoped>\n",
              "    .dataframe tbody tr th:only-of-type {\n",
              "        vertical-align: middle;\n",
              "    }\n",
              "\n",
              "    .dataframe tbody tr th {\n",
              "        vertical-align: top;\n",
              "    }\n",
              "\n",
              "    .dataframe thead th {\n",
              "        text-align: right;\n",
              "    }\n",
              "</style>\n",
              "<table border=\"1\" class=\"dataframe\">\n",
              "  <thead>\n",
              "    <tr style=\"text-align: right;\">\n",
              "      <th></th>\n",
              "      <th>0</th>\n",
              "    </tr>\n",
              "  </thead>\n",
              "  <tbody>\n",
              "    <tr>\n",
              "      <th>Id</th>\n",
              "      <td>0</td>\n",
              "    </tr>\n",
              "    <tr>\n",
              "      <th>DistrictId</th>\n",
              "      <td>0</td>\n",
              "    </tr>\n",
              "    <tr>\n",
              "      <th>Rooms</th>\n",
              "      <td>0</td>\n",
              "    </tr>\n",
              "    <tr>\n",
              "      <th>Square</th>\n",
              "      <td>0</td>\n",
              "    </tr>\n",
              "    <tr>\n",
              "      <th>LifeSquare</th>\n",
              "      <td>2113</td>\n",
              "    </tr>\n",
              "    <tr>\n",
              "      <th>KitchenSquare</th>\n",
              "      <td>0</td>\n",
              "    </tr>\n",
              "    <tr>\n",
              "      <th>Floor</th>\n",
              "      <td>0</td>\n",
              "    </tr>\n",
              "    <tr>\n",
              "      <th>HouseFloor</th>\n",
              "      <td>0</td>\n",
              "    </tr>\n",
              "    <tr>\n",
              "      <th>HouseYear</th>\n",
              "      <td>0</td>\n",
              "    </tr>\n",
              "    <tr>\n",
              "      <th>Ecology_1</th>\n",
              "      <td>0</td>\n",
              "    </tr>\n",
              "    <tr>\n",
              "      <th>Ecology_2</th>\n",
              "      <td>0</td>\n",
              "    </tr>\n",
              "    <tr>\n",
              "      <th>Ecology_3</th>\n",
              "      <td>0</td>\n",
              "    </tr>\n",
              "    <tr>\n",
              "      <th>Social_1</th>\n",
              "      <td>0</td>\n",
              "    </tr>\n",
              "    <tr>\n",
              "      <th>Social_2</th>\n",
              "      <td>0</td>\n",
              "    </tr>\n",
              "    <tr>\n",
              "      <th>Social_3</th>\n",
              "      <td>0</td>\n",
              "    </tr>\n",
              "    <tr>\n",
              "      <th>Healthcare_1</th>\n",
              "      <td>4798</td>\n",
              "    </tr>\n",
              "    <tr>\n",
              "      <th>Helthcare_2</th>\n",
              "      <td>0</td>\n",
              "    </tr>\n",
              "    <tr>\n",
              "      <th>Shops_1</th>\n",
              "      <td>0</td>\n",
              "    </tr>\n",
              "    <tr>\n",
              "      <th>Shops_2</th>\n",
              "      <td>0</td>\n",
              "    </tr>\n",
              "    <tr>\n",
              "      <th>Price</th>\n",
              "      <td>0</td>\n",
              "    </tr>\n",
              "  </tbody>\n",
              "</table>\n",
              "</div>"
            ],
            "text/plain": [
              "                  0\n",
              "Id                0\n",
              "DistrictId        0\n",
              "Rooms             0\n",
              "Square            0\n",
              "LifeSquare     2113\n",
              "KitchenSquare     0\n",
              "Floor             0\n",
              "HouseFloor        0\n",
              "HouseYear         0\n",
              "Ecology_1         0\n",
              "Ecology_2         0\n",
              "Ecology_3         0\n",
              "Social_1          0\n",
              "Social_2          0\n",
              "Social_3          0\n",
              "Healthcare_1   4798\n",
              "Helthcare_2       0\n",
              "Shops_1           0\n",
              "Shops_2           0\n",
              "Price             0"
            ]
          },
          "metadata": {
            "tags": []
          },
          "execution_count": 79
        }
      ]
    },
    {
      "cell_type": "markdown",
      "metadata": {
        "id": "cX2WJSor26Ek"
      },
      "source": [
        "Как мы видим из последних данных, есть пустые значения который будут мешать нам в дальнейшем, так же есть некорректность данных, к примеру максимальное значение размеров кухни 2014, такого не может быть."
      ]
    },
    {
      "cell_type": "markdown",
      "metadata": {
        "id": "wkJ7dyT8VphW"
      },
      "source": [
        "**Построить график распределения целевой переменной. Сделать выводы.**"
      ]
    },
    {
      "cell_type": "code",
      "metadata": {
        "colab": {
          "base_uri": "https://localhost:8080/",
          "height": 537
        },
        "id": "3ErohCq-VrUq",
        "outputId": "0f7c4bc1-35a6-4402-e7fd-29f65c0dcec1"
      },
      "source": [
        "price = real_estate_price_prediction['Price']\r\n",
        "plt.hist(price, ec=\"white\")\r\n",
        "plt.show()\r\n",
        "#больше всего суммы приближенные к 200000"
      ],
      "execution_count": 80,
      "outputs": [
        {
          "output_type": "display_data",
          "data": {
            "image/png": "[encoded data removed]",
            "text/plain": [
              "<Figure size 1440x648 with 1 Axes>"
            ]
          },
          "metadata": {
            "tags": [],
            "needs_background": "light"
          }
        }
      ]
    },
    {
      "cell_type": "markdown",
      "metadata": {
        "id": "Fp2_26-wWir-"
      },
      "source": [
        "**Построить гистограммы для наиболее проблемных признаков (используйте выводы из первого ДЗ). Сделайте по ним выводы.**"
      ]
    },
    {
      "cell_type": "code",
      "metadata": {
        "colab": {
          "base_uri": "https://localhost:8080/",
          "height": 537
        },
        "id": "K6nOJr0oepC3",
        "outputId": "4f2bc613-3ee0-4774-8a66-dec324e18f21"
      },
      "source": [
        "life = real_estate_price_prediction['LifeSquare']\r\n",
        "plt.hist(life, ec=\"white\")\r\n",
        "plt.yscale(value='log')\r\n",
        "plt.show()\r\n",
        "#что-то тут не так, не понимаю почему такой график"
      ],
      "execution_count": 81,
      "outputs": [
        {
          "output_type": "display_data",
          "data": {
            "image/png": "[encoded data removed]",
            "text/plain": [
              "<Figure size 1440x648 with 1 Axes>"
            ]
          },
          "metadata": {
            "tags": [],
            "needs_background": "light"
          }
        }
      ]
    },
    {
      "cell_type": "code",
      "metadata": {
        "colab": {
          "base_uri": "https://localhost:8080/",
          "height": 537
        },
        "id": "Ah670cuBe__J",
        "outputId": "b61881ed-91a3-4d10-d2db-d2e5fd88c8d4"
      },
      "source": [
        "Healthcare_1 = real_estate_price_prediction['Healthcare_1']\r\n",
        "plt.hist(Healthcare_1, ec=\"white\")\r\n",
        "plt.yscale(value='log')\r\n",
        "plt.show()\r\n",
        "# большая часть значений лежит от 0 до 1500"
      ],
      "execution_count": 88,
      "outputs": [
        {
          "output_type": "display_data",
          "data": {
            "image/png": "[encoded data removed]",
            "text/plain": [
              "<Figure size 1440x648 with 1 Axes>"
            ]
          },
          "metadata": {
            "tags": [],
            "needs_background": "light"
          }
        }
      ]
    }
  ]
}