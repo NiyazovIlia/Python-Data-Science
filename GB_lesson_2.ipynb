{
  "nbformat": 4,
  "nbformat_minor": 0,
  "metadata": {
    "colab": {
      "name": "GB-lesson-2.ipynb",
      "provenance": [],
      "collapsed_sections": [],
      "authorship_tag": "ABX9TyMW0o7HDZT3Lwq0/ufomVps",
      "include_colab_link": true
    },
    "kernelspec": {
      "name": "python3",
      "display_name": "Python 3"
    }
  },
  "cells": [
    {
      "cell_type": "markdown",
      "metadata": {
        "id": "view-in-github",
        "colab_type": "text"
      },
      "source": [
        "<a href=\"https://colab.research.google.com/github/NiyazovIlia/Python-Data-Science/blob/lesson-2/GB_lesson_2.ipynb\" target=\"_parent\"><img src=\"https://colab.research.google.com/assets/colab-badge.svg\" alt=\"Open In Colab\"/></a>"
      ]
    },
    {
      "cell_type": "markdown",
      "metadata": {
        "id": "dlowEXDg_ajb"
      },
      "source": [
        "**NumPy**"
      ]
    },
    {
      "cell_type": "markdown",
      "metadata": {
        "id": "Wkm25FMh0atr"
      },
      "source": [
        "**Задание 1**\r\n",
        "\r\n",
        "Импортируйте библиотеку Numpy и дайте ей псевдоним np.\r\n",
        "Создайте массив Numpy под названием a размером 5x2, то есть состоящий из 5 строк и 2 столбцов. Первый столбец должен содержать числа 1, 2, 3, 3, 1, а второй - числа 6, 8, 11, 10, 7. Будем считать, что каждый столбец - это признак, а строка - наблюдение. Затем найдите среднее значение по каждому признаку, используя метод mean массива Numpy. Результат запишите в массив mean_a, в нем должно быть 2 элемента.\r\n"
      ]
    },
    {
      "cell_type": "code",
      "metadata": {
        "id": "TQBF1e-7yvmg"
      },
      "source": [
        "import numpy as np"
      ],
      "execution_count": null,
      "outputs": []
    },
    {
      "cell_type": "code",
      "metadata": {
        "colab": {
          "base_uri": "https://localhost:8080/"
        },
        "id": "zTQTi7RFy7Os",
        "outputId": "539e069d-7af4-4793-8efd-aaba2f53d683"
      },
      "source": [
        "a = np.array([[1,2,3,3,1],\r\n",
        "               [6,8,11,10,7]])\r\n",
        "b = a.T\r\n",
        "mean_a = a.T.mean(axis=0)\r\n",
        "mean_a"
      ],
      "execution_count": null,
      "outputs": [
        {
          "output_type": "execute_result",
          "data": {
            "text/plain": [
              "array([2. , 8.4])"
            ]
          },
          "metadata": {
            "tags": []
          },
          "execution_count": 16
        }
      ]
    },
    {
      "cell_type": "markdown",
      "metadata": {
        "id": "XCr2voSW0gRU"
      },
      "source": [
        "**Задание 2**\r\n",
        "\r\n",
        "Вычислите массив a_centered, отняв от значений массива “а” средние значения соответствующих признаков, содержащиеся в массиве mean_a. Вычисление должно производиться в одно действие. Получившийся массив должен иметь размер 5x2."
      ]
    },
    {
      "cell_type": "code",
      "metadata": {
        "colab": {
          "base_uri": "https://localhost:8080/"
        },
        "id": "qxLO2YWD0usz",
        "outputId": "322171b3-e268-4345-e595-782703656a8d"
      },
      "source": [
        "a_centered = np.subtract(b, mean_a)\r\n",
        "a_centered"
      ],
      "execution_count": null,
      "outputs": [
        {
          "output_type": "execute_result",
          "data": {
            "text/plain": [
              "array([[-1. , -2.4],\n",
              "       [ 0. , -0.4],\n",
              "       [ 1. ,  2.6],\n",
              "       [ 1. ,  1.6],\n",
              "       [-1. , -1.4]])"
            ]
          },
          "metadata": {
            "tags": []
          },
          "execution_count": 19
        }
      ]
    },
    {
      "cell_type": "markdown",
      "metadata": {
        "id": "C4iOqjw21bfU"
      },
      "source": [
        "**Задание 3**\r\n",
        "\r\n",
        "Найдите скалярное произведение столбцов массива a_centered. В результате должна получиться величина a_centered_sp. Затем поделите a_centered_sp на N-1, где N - число наблюдений.\r\n"
      ]
    },
    {
      "cell_type": "code",
      "metadata": {
        "colab": {
          "base_uri": "https://localhost:8080/"
        },
        "id": "xzrYUrS41fwK",
        "outputId": "ffdc52bb-091b-4e8b-88cc-bc3787e9ffbc"
      },
      "source": [
        "a1 = a_centered[:, 0]\r\n",
        "a2 = a_centered[:, 1]\r\n",
        "a_centered_sp = np.dot(a1,a2)\r\n",
        "a_centered_sp\r\n",
        "c = a_centered_sp/(a_centered.shape[0] -1)\r\n",
        "c"
      ],
      "execution_count": null,
      "outputs": [
        {
          "output_type": "execute_result",
          "data": {
            "text/plain": [
              "2.0"
            ]
          },
          "metadata": {
            "tags": []
          },
          "execution_count": 36
        }
      ]
    },
    {
      "cell_type": "markdown",
      "metadata": {
        "id": "by_5ZcAh3S8b"
      },
      "source": [
        "**Задание 4**\r\n",
        "\r\n",
        "Число, которое мы получили в конце задания 3 является ковариацией двух признаков, содержащихся в массиве “а”. В задании 4 мы делили сумму произведений центрированных признаков на N-1, а не на N, поэтому полученная нами величина является несмещенной оценкой ковариации.\r\n",
        "\r\n",
        "В этом задании проверьте получившееся число, вычислив ковариацию еще одним способом - с помощью функции np.cov. В качестве аргумента m функция np.cov должна принимать транспонированный массив “a”. В получившейся ковариационной матрице (массив Numpy размером 2x2) искомое значение ковариации будет равно элементу в строке с индексом 0 и столбце с индексом 1."
      ]
    },
    {
      "cell_type": "code",
      "metadata": {
        "colab": {
          "base_uri": "https://localhost:8080/"
        },
        "id": "1jG9LnhD3Ymh",
        "outputId": "0c4c9040-a2d3-41ef-dd9a-8320ee0f48bb"
      },
      "source": [
        "np.cov(b.T)"
      ],
      "execution_count": null,
      "outputs": [
        {
          "output_type": "execute_result",
          "data": {
            "text/plain": [
              "array([[1. , 2. ],\n",
              "       [2. , 4.3]])"
            ]
          },
          "metadata": {
            "tags": []
          },
          "execution_count": 33
        }
      ]
    },
    {
      "cell_type": "markdown",
      "metadata": {
        "id": "8aB4_P2W4Haz"
      },
      "source": [
        "**Задание 5**\r\n",
        "\r\n",
        "Создайте одномерный массив z случайных равномерно распределенных целых чисел от -50 до 50 включительно размерности 8. Найдите индексы положительных объектов.\r\n"
      ]
    },
    {
      "cell_type": "code",
      "metadata": {
        "colab": {
          "base_uri": "https://localhost:8080/"
        },
        "id": "_FTbhMnO4Jri",
        "outputId": "ce8ef275-45ff-483e-c846-8d19cd4921e4"
      },
      "source": [
        "z = np.random.uniform(-50,50, 8)\r\n",
        "z_ind = np.array(z > 0)\r\n",
        "print(z)\r\n",
        "z[z_ind]"
      ],
      "execution_count": null,
      "outputs": [
        {
          "output_type": "stream",
          "text": [
            "[-25.67342519 -39.97168218  43.74846798  -5.08898634 -49.34225273\n",
            "   0.45909935  48.8987064   -0.655076  ]\n"
          ],
          "name": "stdout"
        },
        {
          "output_type": "execute_result",
          "data": {
            "text/plain": [
              "array([43.74846798,  0.45909935, 48.8987064 ])"
            ]
          },
          "metadata": {
            "tags": []
          },
          "execution_count": 2
        }
      ]
    },
    {
      "cell_type": "markdown",
      "metadata": {
        "id": "wCNJiG4X6k_q"
      },
      "source": [
        "**Задание 6**\r\n",
        "\r\n",
        "Создайте двумерный массив X случайных равномерно распределенных целых чисел от 0 до 255 включительно размерности 10 на 5. (Здесь снова считаем, что каждый столбец - это признак, а строка - наблюдение.)\r\n",
        "\r\n",
        "Найдите среднее значение и стандартное отклонение по каждому признаку.\r\n",
        "\r\n",
        "Вычислите массив X_standard, отняв от каждого признака среднее и поделив на стандартное отклонение.\r\n",
        "\r\n",
        "Убедитесь, что теперь среднее в каждом признаке стало равное нулю, а стандартное отклонение равно единице.\r\n",
        "\r\n",
        "Это называется стандартизация данных - важный процесс подготовки данных. Более подробно можно почитать здесь (https://wiki.loginom.ru/articles/data-standartization.html)\r\n"
      ]
    },
    {
      "cell_type": "code",
      "metadata": {
        "colab": {
          "base_uri": "https://localhost:8080/"
        },
        "id": "D-Yl1bhs6uQg",
        "outputId": "5bce7747-18d4-40d6-9ae6-852252403d5c"
      },
      "source": [
        "X = np.random.randint(0, 255, (10,5))\r\n",
        "# среднее значение\r\n",
        "x_str = X.mean(axis=0)\r\n",
        "# стандартное отклонение\r\n",
        "x_std = X.std(axis=0)\r\n",
        "# новый массив\r\n",
        "X_standart = np.subtract(X, x_str)/x_std\r\n",
        "X_standart_str = X_standart.mean(axis=0)\r\n",
        "X_standart_std = X_standart.std(axis=0)\r\n",
        "X, X_standart, X_standart_str, X_standart_std"
      ],
      "execution_count": null,
      "outputs": [
        {
          "output_type": "execute_result",
          "data": {
            "text/plain": [
              "(array([[242,  57, 182,  92,  32],\n",
              "        [226,   2, 225,  16, 157],\n",
              "        [114, 205,  63, 134, 180],\n",
              "        [ 10, 140, 214,  87, 140],\n",
              "        [ 90, 168,  86, 130, 233],\n",
              "        [157,  52, 193, 227, 143],\n",
              "        [140,  84, 229, 127,  11],\n",
              "        [208,  32, 133,  23, 223],\n",
              "        [209, 150,  53,  50, 144],\n",
              "        [  4, 103, 190, 162,  59]]),\n",
              " array([[ 1.2550959 , -0.68270132,  0.39195699, -0.20697564, -1.3934203 ],\n",
              "        [ 1.05821811, -1.57037444,  1.0607725 , -1.43589349,  0.34487848],\n",
              "        [-0.31992641,  1.70594634, -1.45895103,  0.47216317,  0.66472545],\n",
              "        [-1.59963203,  0.65687811,  0.88968016, -0.2878255 ,  0.10846984],\n",
              "        [-0.61524309,  1.10878442, -1.10121251,  0.40748329,  1.40176413],\n",
              "        [ 0.20918265, -0.76339888,  0.56304933,  1.97597055,  0.15018901],\n",
              "        [ 0.        , -0.24693452,  1.12298789,  0.35897337, -1.68545449],\n",
              "        [ 0.8367306 , -1.08618911, -0.37018161, -1.32270369,  1.26270023],\n",
              "        [ 0.84903546,  0.81827322, -1.61448952, -0.88611445,  0.1640954 ],\n",
              "        [-1.6734612 ,  0.05971619,  0.51638779,  0.92492238, -1.01794776]]),\n",
              " array([-4.44089210e-17,  2.56739074e-17, -2.10942375e-16,  3.33066907e-17,\n",
              "         1.77635684e-16]),\n",
              " array([1., 1., 1., 1., 1.]))"
            ]
          },
          "metadata": {
            "tags": []
          },
          "execution_count": 61
        }
      ]
    },
    {
      "cell_type": "markdown",
      "metadata": {
        "id": "ayDa9CBgXD32"
      },
      "source": [
        "**Задание 7**\r\n",
        "\r\n",
        "Создайте два одномерных массива размерности 512 с любыми значениями. Будем считать, что каждый массив - это наблюдение с 512 признаками. \r\n",
        "\r\n",
        "Найдите разницу между двумя массивами. Далее возведите разницу в квадрат, просуммируйте все элементы нового массива и возьмите корень квадратный.\r\n",
        "\r\n",
        "Это получилась L2-норма (Евклидова метрика) — функция расстояния, благодаря которой можно считать насколько далеки точки друг от друга, насколько они похожи друг на друга. Более подробно здесь (https://wiki.loginom.ru/articles/euclid-distance.html)\r\n",
        "\r\n",
        "Посчитайте L2 норму для этих двух массивов с помощью numpy.linalg."
      ]
    },
    {
      "cell_type": "code",
      "metadata": {
        "colab": {
          "base_uri": "https://localhost:8080/"
        },
        "id": "Z_-hHWPhXYIN",
        "outputId": "f53b8abc-a935-45e1-ba2c-ef32f28d1596"
      },
      "source": [
        "arrra_1 = np.random.randint(0, 1000, 512)\r\n",
        "arrra_2 = np.random.randint(0, 1000, 512)\r\n",
        "# вычитаение массивов\r\n",
        "sub = np.subtract(arrra_1, arrra_2)\r\n",
        "# возведение в степень\r\n",
        "sub_2 = np.power(sub, 2)\r\n",
        "# суммирование и квадатный корень\r\n",
        "sub_2_sum = np.sqrt(np.sum(sub_2))\r\n",
        "sub_2_sum,np.linalg.norm(arrra_1), np.linalg.norm(arrra_2)"
      ],
      "execution_count": null,
      "outputs": [
        {
          "output_type": "execute_result",
          "data": {
            "text/plain": [
              "(9520.099579311132, 12834.946474372226, 12943.500647042902)"
            ]
          },
          "metadata": {
            "tags": []
          },
          "execution_count": 18
        }
      ]
    },
    {
      "cell_type": "markdown",
      "metadata": {
        "id": "UqS7Oo9qa3RO"
      },
      "source": [
        "**Задание 8**\r\n",
        "\r\n",
        "Используйте ранее созданный массив X.\r\n",
        "\r\n",
        "Найдите минимальное значение и максимальное по каждому признаку.\r\n",
        "\r\n",
        "Вычислите массив X_norm, отняв от каждого признака минимальное и поделив на разницу максимального и минимального.\r\n",
        "\r\n",
        "Убедитесь, что теперь минимальное значение стало равно 0, а максимальное - 1.\r\n",
        "\r\n",
        "Это называется нормализация данных - еще один из важных процессов подготовки данных. Более подробно здесь (https://wiki.loginom.ru/articles/data-normalization.html)\r\n"
      ]
    },
    {
      "cell_type": "code",
      "metadata": {
        "colab": {
          "base_uri": "https://localhost:8080/"
        },
        "id": "UvPpAx2sa7Kc",
        "outputId": "840029e8-d314-4f1b-9cb1-cf1dbc67d9ee"
      },
      "source": [
        "X = np.random.randint(0, 255, (10,5))\r\n",
        "# минимальное значение \"вдоль\" строк\r\n",
        "x_min_1 = np.min(X, axis=0)\r\n",
        "# максимальное значение \"вдоль\" строк\r\n",
        "x_max_1 = np.max(X, axis=0)\r\n",
        "# новый массив\r\n",
        "X_norm = np.subtract(X, x_min_1)/(x_max_1 - x_min_1)\r\n",
        "X_norm"
      ],
      "execution_count": null,
      "outputs": [
        {
          "output_type": "execute_result",
          "data": {
            "text/plain": [
              "array([[0.32240437, 0.09777778, 1.        , 0.54411765, 0.12446352],\n",
              "       [0.89617486, 0.04888889, 0.02234637, 0.93627451, 0.527897  ],\n",
              "       [0.0273224 , 0.8       , 0.76536313, 0.58823529, 0.7639485 ],\n",
              "       [0.31693989, 0.        , 0.96648045, 0.49019608, 0.39914163],\n",
              "       [0.86338798, 0.34666667, 0.52513966, 0.        , 0.34763948],\n",
              "       [0.07650273, 0.39555556, 0.05027933, 1.        , 0.60515021],\n",
              "       [0.        , 0.52888889, 0.56424581, 0.83823529, 1.        ],\n",
              "       [0.08196721, 0.30222222, 0.67039106, 0.23039216, 0.        ],\n",
              "       [0.42622951, 0.48444444, 0.51955307, 0.92156863, 0.87124464],\n",
              "       [1.        , 1.        , 0.        , 0.03921569, 0.73819742]])"
            ]
          },
          "metadata": {
            "tags": []
          },
          "execution_count": 22
        }
      ]
    },
    {
      "cell_type": "markdown",
      "metadata": {
        "id": "Xctk2GcH_f4K"
      },
      "source": [
        "**Pandas**"
      ]
    },
    {
      "cell_type": "markdown",
      "metadata": {
        "id": "8I8VUxV5_hpB"
      },
      "source": [
        "**Задание 1**\r\n",
        "\r\n",
        "Импортируйте библиотеку Pandas и дайте ей псевдоним pd. Создайте датафрейм authors со столбцами author_id и author_name, в которых соответственно содержатся данные: [1, 2, 3] и ['Тургенев', 'Чехов', 'Островский'].\r\n",
        "\r\n",
        "Затем создайте датафрейм book cо столбцами author_id, book_title и price, в которых соответственно содержатся данные:  \r\n",
        "[1, 1, 1, 2, 2, 3, 3],\r\n",
        "\r\n",
        "['Отцы и дети', 'Рудин', 'Дворянское гнездо', 'Толстый и тонкий', 'Дама с собачкой', 'Гроза', 'Таланты и поклонники'],\r\n",
        "\r\n",
        "[450, 300, 350, 500, 450, 370, 290].\r\n"
      ]
    },
    {
      "cell_type": "code",
      "metadata": {
        "id": "M0Ggy-iQAPBy"
      },
      "source": [
        "import pandas as pd"
      ],
      "execution_count": null,
      "outputs": []
    },
    {
      "cell_type": "code",
      "metadata": {
        "id": "5e21aVdCAUwb"
      },
      "source": [
        "authors = pd.DataFrame({'author_id':[1,2,3], \r\n",
        "                       'author_name': ['Тургенев', 'Чехов', 'Островский']})\r\n",
        "book = pd.DataFrame({'author_id':[1, 1, 1, 2, 2, 3, 3],\r\n",
        "                     'book_title':['Отцы и дети', 'Рудин', 'Дворянское гнездо', 'Толстый и тонкий', 'Дама с собачкой', 'Гроза', 'Таланты и поклонники'],\r\n",
        "                     'price':[450, 300, 350, 500, 450, 370, 290]})"
      ],
      "execution_count": null,
      "outputs": []
    },
    {
      "cell_type": "markdown",
      "metadata": {
        "id": "Ze4rAw0PCIQR"
      },
      "source": [
        "**Задание 2**\r\n",
        "\r\n",
        "Получите датафрейм authors_price, соединив датафреймы authors и books по полю author_id"
      ]
    },
    {
      "cell_type": "code",
      "metadata": {
        "colab": {
          "base_uri": "https://localhost:8080/",
          "height": 257
        },
        "id": "SL7MyYvPCKYZ",
        "outputId": "813399df-f6d2-49c6-b2e0-32182b087767"
      },
      "source": [
        "authors_price = pd.merge(authors, book, on='author_id')\r\n",
        "authors_price"
      ],
      "execution_count": null,
      "outputs": [
        {
          "output_type": "execute_result",
          "data": {
            "text/html": [
              "<div>\n",
              "<style scoped>\n",
              "    .dataframe tbody tr th:only-of-type {\n",
              "        vertical-align: middle;\n",
              "    }\n",
              "\n",
              "    .dataframe tbody tr th {\n",
              "        vertical-align: top;\n",
              "    }\n",
              "\n",
              "    .dataframe thead th {\n",
              "        text-align: right;\n",
              "    }\n",
              "</style>\n",
              "<table border=\"1\" class=\"dataframe\">\n",
              "  <thead>\n",
              "    <tr style=\"text-align: right;\">\n",
              "      <th></th>\n",
              "      <th>author_id</th>\n",
              "      <th>author_name</th>\n",
              "      <th>book_title</th>\n",
              "      <th>price</th>\n",
              "    </tr>\n",
              "  </thead>\n",
              "  <tbody>\n",
              "    <tr>\n",
              "      <th>0</th>\n",
              "      <td>1</td>\n",
              "      <td>Тургенев</td>\n",
              "      <td>Отцы и дети</td>\n",
              "      <td>450</td>\n",
              "    </tr>\n",
              "    <tr>\n",
              "      <th>1</th>\n",
              "      <td>1</td>\n",
              "      <td>Тургенев</td>\n",
              "      <td>Рудин</td>\n",
              "      <td>300</td>\n",
              "    </tr>\n",
              "    <tr>\n",
              "      <th>2</th>\n",
              "      <td>1</td>\n",
              "      <td>Тургенев</td>\n",
              "      <td>Дворянское гнездо</td>\n",
              "      <td>350</td>\n",
              "    </tr>\n",
              "    <tr>\n",
              "      <th>3</th>\n",
              "      <td>2</td>\n",
              "      <td>Чехов</td>\n",
              "      <td>Толстый и тонкий</td>\n",
              "      <td>500</td>\n",
              "    </tr>\n",
              "    <tr>\n",
              "      <th>4</th>\n",
              "      <td>2</td>\n",
              "      <td>Чехов</td>\n",
              "      <td>Дама с собачкой</td>\n",
              "      <td>450</td>\n",
              "    </tr>\n",
              "    <tr>\n",
              "      <th>5</th>\n",
              "      <td>3</td>\n",
              "      <td>Островский</td>\n",
              "      <td>Гроза</td>\n",
              "      <td>370</td>\n",
              "    </tr>\n",
              "    <tr>\n",
              "      <th>6</th>\n",
              "      <td>3</td>\n",
              "      <td>Островский</td>\n",
              "      <td>Таланты и поклонники</td>\n",
              "      <td>290</td>\n",
              "    </tr>\n",
              "  </tbody>\n",
              "</table>\n",
              "</div>"
            ],
            "text/plain": [
              "   author_id author_name            book_title  price\n",
              "0          1    Тургенев           Отцы и дети    450\n",
              "1          1    Тургенев                 Рудин    300\n",
              "2          1    Тургенев     Дворянское гнездо    350\n",
              "3          2       Чехов      Толстый и тонкий    500\n",
              "4          2       Чехов       Дама с собачкой    450\n",
              "5          3  Островский                 Гроза    370\n",
              "6          3  Островский  Таланты и поклонники    290"
            ]
          },
          "metadata": {
            "tags": []
          },
          "execution_count": 5
        }
      ]
    },
    {
      "cell_type": "markdown",
      "metadata": {
        "id": "zWX7MqVYDmTB"
      },
      "source": [
        "**Задание 3**\r\n",
        "\r\n",
        "Создайте датафрейм top5, в котором содержатся строки из authors_price с пятью самыми дорогими книгами.\r\n"
      ]
    },
    {
      "cell_type": "code",
      "metadata": {
        "colab": {
          "base_uri": "https://localhost:8080/",
          "height": 197
        },
        "id": "3a-Y1kqRDo4A",
        "outputId": "c236833b-73df-4377-9a86-156f4aaa6e18"
      },
      "source": [
        "top5 = authors_price.nlargest(5, 'price')\r\n",
        "top5"
      ],
      "execution_count": null,
      "outputs": [
        {
          "output_type": "execute_result",
          "data": {
            "text/html": [
              "<div>\n",
              "<style scoped>\n",
              "    .dataframe tbody tr th:only-of-type {\n",
              "        vertical-align: middle;\n",
              "    }\n",
              "\n",
              "    .dataframe tbody tr th {\n",
              "        vertical-align: top;\n",
              "    }\n",
              "\n",
              "    .dataframe thead th {\n",
              "        text-align: right;\n",
              "    }\n",
              "</style>\n",
              "<table border=\"1\" class=\"dataframe\">\n",
              "  <thead>\n",
              "    <tr style=\"text-align: right;\">\n",
              "      <th></th>\n",
              "      <th>author_id</th>\n",
              "      <th>author_name</th>\n",
              "      <th>book_title</th>\n",
              "      <th>price</th>\n",
              "    </tr>\n",
              "  </thead>\n",
              "  <tbody>\n",
              "    <tr>\n",
              "      <th>3</th>\n",
              "      <td>2</td>\n",
              "      <td>Чехов</td>\n",
              "      <td>Толстый и тонкий</td>\n",
              "      <td>500</td>\n",
              "    </tr>\n",
              "    <tr>\n",
              "      <th>0</th>\n",
              "      <td>1</td>\n",
              "      <td>Тургенев</td>\n",
              "      <td>Отцы и дети</td>\n",
              "      <td>450</td>\n",
              "    </tr>\n",
              "    <tr>\n",
              "      <th>4</th>\n",
              "      <td>2</td>\n",
              "      <td>Чехов</td>\n",
              "      <td>Дама с собачкой</td>\n",
              "      <td>450</td>\n",
              "    </tr>\n",
              "    <tr>\n",
              "      <th>5</th>\n",
              "      <td>3</td>\n",
              "      <td>Островский</td>\n",
              "      <td>Гроза</td>\n",
              "      <td>370</td>\n",
              "    </tr>\n",
              "    <tr>\n",
              "      <th>2</th>\n",
              "      <td>1</td>\n",
              "      <td>Тургенев</td>\n",
              "      <td>Дворянское гнездо</td>\n",
              "      <td>350</td>\n",
              "    </tr>\n",
              "  </tbody>\n",
              "</table>\n",
              "</div>"
            ],
            "text/plain": [
              "   author_id author_name         book_title  price\n",
              "3          2       Чехов   Толстый и тонкий    500\n",
              "0          1    Тургенев        Отцы и дети    450\n",
              "4          2       Чехов    Дама с собачкой    450\n",
              "5          3  Островский              Гроза    370\n",
              "2          1    Тургенев  Дворянское гнездо    350"
            ]
          },
          "metadata": {
            "tags": []
          },
          "execution_count": 6
        }
      ]
    },
    {
      "cell_type": "markdown",
      "metadata": {
        "id": "2Ec9AKVzD2_Y"
      },
      "source": [
        "**Задание 4**\r\n",
        "\r\n",
        "Создайте датафрейм authors_stat на основе информации из authors_price. В датафрейме authors_stat должны быть четыре столбца:\r\n",
        "\r\n",
        "author_name, min_price, max_price и mean_price,\r\n",
        "\r\n",
        "в которых должны содержаться соответственно имя автора, минимальная, максимальная и средняя цена на книги этого автора.\r\n"
      ]
    },
    {
      "cell_type": "code",
      "metadata": {
        "colab": {
          "base_uri": "https://localhost:8080/"
        },
        "id": "2j_HZcoFD7j7",
        "outputId": "72e47b0d-b66b-4c8c-fc78-3b38598056f0"
      },
      "source": [
        "authors_stat = authors_price.groupby('author_name')\r\n",
        "a1 = authors_stat.agg({\"price\": \"min\"}).rename(columns={'price':'min_price'})\r\n",
        "a2 = authors_stat.agg({\"price\": \"max\"}).rename(columns={'price':'max_price'})\r\n",
        "a3 = authors_stat.agg({\"price\": \"mean\"}).rename(columns={'price':'mean_price'})\r\n",
        "authors_stat = pd.concat([a1,a2,a3], axis=1)\r\n",
        "print(authors_stat)"
      ],
      "execution_count": null,
      "outputs": [
        {
          "output_type": "stream",
          "text": [
            "             min_price  max_price  mean_price\n",
            "author_name                                  \n",
            "Островский         290        370  330.000000\n",
            "Тургенев           300        450  366.666667\n",
            "Чехов              450        500  475.000000\n"
          ],
          "name": "stdout"
        }
      ]
    },
    {
      "cell_type": "markdown",
      "metadata": {
        "id": "7sfGk22cZewi"
      },
      "source": [
        "**Задание 5**\r\n",
        "\r\n",
        "Создайте новый столбец в датафрейме authors_price под названием cover, в нем будут располагаться данные о том, какая обложка у данной книги - твердая или мягкая. В этот столбец поместите данные из следующего списка:\r\n",
        "\r\n",
        "['твердая', 'мягкая', 'мягкая', 'твердая', 'твердая', 'мягкая', 'мягкая'].\r\n",
        "\r\n",
        "Просмотрите документацию по функции pd.pivot_table с помощью вопросительного знака.Для каждого автора посчитайте суммарную стоимость книг в твердой и мягкой обложке. Используйте для этого функцию pd.pivot_table. При этом столбцы должны называться \"твердая\" и \"мягкая\", а индексами должны быть фамилии авторов. Пропущенные значения стоимостей заполните нулями, при необходимости загрузите библиотеку Numpy.\r\n",
        "\r\n",
        "Назовите полученный датасет book_info и сохраните его в формат pickle под названием \"book_info.pkl\". Затем загрузите из этого файла датафрейм и назовите его book_info2. Удостоверьтесь, что датафреймы book_info и book_info2 идентичны.\r\n"
      ]
    },
    {
      "cell_type": "code",
      "metadata": {
        "colab": {
          "base_uri": "https://localhost:8080/"
        },
        "id": "KwIxGYUqZkHI",
        "outputId": "5d56627f-313d-425a-d656-fe4f0725d128"
      },
      "source": [
        "authors_price['cover'] = ['твердая', 'мягкая', 'мягкая', 'твердая', 'твердая', 'мягкая', 'мягкая']\r\n",
        "\r\n",
        "book_info = pd.pivot_table(authors_price, values='price', index='author_name', columns='cover',aggfunc=np.sum, fill_value=0)\r\n",
        "\r\n",
        "book_info.to_pickle('book_info.pkl')\r\n",
        "\r\n",
        "book_info2 = pd.read_pickle('book_info.pkl')\r\n",
        "\r\n",
        "print(book_info)\r\n",
        "\r\n",
        "print(book_info2)"
      ],
      "execution_count": null,
      "outputs": [
        {
          "output_type": "stream",
          "text": [
            "cover        мягкая  твердая\n",
            "author_name                 \n",
            "Островский      660        0\n",
            "Тургенев        650      450\n",
            "Чехов             0      950\n",
            "cover        мягкая  твердая\n",
            "author_name                 \n",
            "Островский      660        0\n",
            "Тургенев        650      450\n",
            "Чехов             0      950\n"
          ],
          "name": "stdout"
        }
      ]
    },
    {
      "cell_type": "markdown",
      "metadata": {
        "id": "ZKlXnBTgdhzp"
      },
      "source": [
        "**Задание 6**\r\n",
        "\r\n",
        "В этом задании будем работать с датасетом, в котором представлены данные по сериалам и фильмам на Netflix (Netflix Movies and TV Shows).\r\n",
        "\r\n",
        "Ознакомьтесь с описанием данных и скачайте датасет netflix_titles.csv с сайта Kaggle.com https://www.kaggle.com/shivamb/netflix-shows\r\n",
        "\r\n",
        "Считайте датасет. Посмотрите, сколько наблюдений и сколько признаков есть в этом наборе данных.\r\n",
        "\r\n",
        "Посчитайте, как много сериалов и фильмов представлено в этом датасете.\r\n",
        "\r\n",
        "Посчитайте, как много пропущенных значений (NaN) есть в признаках director и country.\r\n",
        "\r\n",
        "Посчитайте, сколько фильмов выпустили раньше 2003 года.\r\n",
        "\r\n",
        "Посчитайте, какая страна чаще всего выпускает фильмы на Netflix.\r\n"
      ]
    },
    {
      "cell_type": "code",
      "metadata": {
        "colab": {
          "base_uri": "https://localhost:8080/"
        },
        "id": "Y7t1Tc-DDmL6",
        "outputId": "6ea4589a-0bc4-418a-cafb-5089f94bab98"
      },
      "source": [
        "netflix = pd.read_csv('netflix_titles.csv')\r\n",
        "\r\n",
        "netflix['type'].value_counts()\r\n",
        "\r\n",
        "n = netflix[{'director', 'country'}].isnull()\r\n",
        "\r\n",
        "n.value_counts()\r\n",
        "\r\n",
        "netflix.head()\r\n",
        "\r\n",
        "netflix.loc[netflix['release_year'] < 2003]\r\n",
        "\r\n",
        "netflix.value_counts('country')"
      ],
      "execution_count": null,
      "outputs": [
        {
          "output_type": "execute_result",
          "data": {
            "text/plain": [
              "country\n",
              "United States                              2555\n",
              "India                                       923\n",
              "United Kingdom                              397\n",
              "Japan                                       226\n",
              "South Korea                                 183\n",
              "                                           ... \n",
              "Spain, United Kingdom, United States          1\n",
              "Spain, Thailand, United States                1\n",
              "Spain, Switzerland                            1\n",
              "Spain, Portugal                               1\n",
              "Norway, United Kingdom, France, Ireland       1\n",
              "Length: 681, dtype: int64"
            ]
          },
          "metadata": {
            "tags": []
          },
          "execution_count": 42
        }
      ]
    },
    {
      "cell_type": "markdown",
      "metadata": {
        "id": "LdC4VMBQDtPC"
      },
      "source": [
        "**Задание 7**\r\n",
        "\r\n",
        "В этом датасете есть признак date_added (дата добавления сериала/фильма на платформу), на основе этого признака создайте три новых: year_added - год добавления, month_added - месяц добавления и day_added - день добавления.\r\n"
      ]
    },
    {
      "cell_type": "code",
      "metadata": {
        "colab": {
          "base_uri": "https://localhost:8080/",
          "height": 678
        },
        "id": "vIyPwNm_D_5H",
        "outputId": "6d24351f-8269-482a-9f12-f2691fd98aa1"
      },
      "source": [
        "n = pd.to_datetime(netflix['date_added'])\r\n",
        "year = []\r\n",
        "month = []\r\n",
        "day = []\r\n",
        "\r\n",
        "for i in n.index:\r\n",
        "  year.append(n[i].year)\r\n",
        "  month.append(n[i].month)\r\n",
        "  day.append(n[i].day)\r\n",
        "\r\n",
        "new = pd.DataFrame({'year_added': year, 'month_added': month, 'day_added': day}, dtype=np.int32)\r\n",
        "netflix_new = pd.concat([netflix, new], axis=1)\r\n",
        "netflix_new.head()"
      ],
      "execution_count": null,
      "outputs": [
        {
          "output_type": "execute_result",
          "data": {
            "text/html": [
              "<div>\n",
              "<style scoped>\n",
              "    .dataframe tbody tr th:only-of-type {\n",
              "        vertical-align: middle;\n",
              "    }\n",
              "\n",
              "    .dataframe tbody tr th {\n",
              "        vertical-align: top;\n",
              "    }\n",
              "\n",
              "    .dataframe thead th {\n",
              "        text-align: right;\n",
              "    }\n",
              "</style>\n",
              "<table border=\"1\" class=\"dataframe\">\n",
              "  <thead>\n",
              "    <tr style=\"text-align: right;\">\n",
              "      <th></th>\n",
              "      <th>show_id</th>\n",
              "      <th>type</th>\n",
              "      <th>title</th>\n",
              "      <th>director</th>\n",
              "      <th>cast</th>\n",
              "      <th>country</th>\n",
              "      <th>date_added</th>\n",
              "      <th>release_year</th>\n",
              "      <th>rating</th>\n",
              "      <th>duration</th>\n",
              "      <th>listed_in</th>\n",
              "      <th>description</th>\n",
              "      <th>year_added</th>\n",
              "      <th>month_added</th>\n",
              "      <th>day_added</th>\n",
              "    </tr>\n",
              "  </thead>\n",
              "  <tbody>\n",
              "    <tr>\n",
              "      <th>0</th>\n",
              "      <td>s1</td>\n",
              "      <td>TV Show</td>\n",
              "      <td>3%</td>\n",
              "      <td>NaN</td>\n",
              "      <td>João Miguel, Bianca Comparato, Michel Gomes, R...</td>\n",
              "      <td>Brazil</td>\n",
              "      <td>August 14, 2020</td>\n",
              "      <td>2020</td>\n",
              "      <td>TV-MA</td>\n",
              "      <td>4 Seasons</td>\n",
              "      <td>International TV Shows, TV Dramas, TV Sci-Fi &amp;...</td>\n",
              "      <td>In a future where the elite inhabit an island ...</td>\n",
              "      <td>2020</td>\n",
              "      <td>8</td>\n",
              "      <td>14</td>\n",
              "    </tr>\n",
              "    <tr>\n",
              "      <th>1</th>\n",
              "      <td>s2</td>\n",
              "      <td>Movie</td>\n",
              "      <td>7:19</td>\n",
              "      <td>Jorge Michel Grau</td>\n",
              "      <td>Demián Bichir, Héctor Bonilla, Oscar Serrano, ...</td>\n",
              "      <td>Mexico</td>\n",
              "      <td>December 23, 2016</td>\n",
              "      <td>2016</td>\n",
              "      <td>TV-MA</td>\n",
              "      <td>93 min</td>\n",
              "      <td>Dramas, International Movies</td>\n",
              "      <td>After a devastating earthquake hits Mexico Cit...</td>\n",
              "      <td>2016</td>\n",
              "      <td>12</td>\n",
              "      <td>23</td>\n",
              "    </tr>\n",
              "    <tr>\n",
              "      <th>2</th>\n",
              "      <td>s3</td>\n",
              "      <td>Movie</td>\n",
              "      <td>23:59</td>\n",
              "      <td>Gilbert Chan</td>\n",
              "      <td>Tedd Chan, Stella Chung, Henley Hii, Lawrence ...</td>\n",
              "      <td>Singapore</td>\n",
              "      <td>December 20, 2018</td>\n",
              "      <td>2011</td>\n",
              "      <td>R</td>\n",
              "      <td>78 min</td>\n",
              "      <td>Horror Movies, International Movies</td>\n",
              "      <td>When an army recruit is found dead, his fellow...</td>\n",
              "      <td>2018</td>\n",
              "      <td>12</td>\n",
              "      <td>20</td>\n",
              "    </tr>\n",
              "    <tr>\n",
              "      <th>3</th>\n",
              "      <td>s4</td>\n",
              "      <td>Movie</td>\n",
              "      <td>9</td>\n",
              "      <td>Shane Acker</td>\n",
              "      <td>Elijah Wood, John C. Reilly, Jennifer Connelly...</td>\n",
              "      <td>United States</td>\n",
              "      <td>November 16, 2017</td>\n",
              "      <td>2009</td>\n",
              "      <td>PG-13</td>\n",
              "      <td>80 min</td>\n",
              "      <td>Action &amp; Adventure, Independent Movies, Sci-Fi...</td>\n",
              "      <td>In a postapocalyptic world, rag-doll robots hi...</td>\n",
              "      <td>2017</td>\n",
              "      <td>11</td>\n",
              "      <td>16</td>\n",
              "    </tr>\n",
              "    <tr>\n",
              "      <th>4</th>\n",
              "      <td>s5</td>\n",
              "      <td>Movie</td>\n",
              "      <td>21</td>\n",
              "      <td>Robert Luketic</td>\n",
              "      <td>Jim Sturgess, Kevin Spacey, Kate Bosworth, Aar...</td>\n",
              "      <td>United States</td>\n",
              "      <td>January 1, 2020</td>\n",
              "      <td>2008</td>\n",
              "      <td>PG-13</td>\n",
              "      <td>123 min</td>\n",
              "      <td>Dramas</td>\n",
              "      <td>A brilliant group of students become card-coun...</td>\n",
              "      <td>2020</td>\n",
              "      <td>1</td>\n",
              "      <td>1</td>\n",
              "    </tr>\n",
              "  </tbody>\n",
              "</table>\n",
              "</div>"
            ],
            "text/plain": [
              "  show_id     type  title  ... year_added month_added day_added\n",
              "0      s1  TV Show     3%  ...       2020           8        14\n",
              "1      s2    Movie   7:19  ...       2016          12        23\n",
              "2      s3    Movie  23:59  ...       2018          12        20\n",
              "3      s4    Movie      9  ...       2017          11        16\n",
              "4      s5    Movie     21  ...       2020           1         1\n",
              "\n",
              "[5 rows x 15 columns]"
            ]
          },
          "metadata": {
            "tags": []
          },
          "execution_count": 93
        }
      ]
    },
    {
      "cell_type": "markdown",
      "metadata": {
        "id": "RQOZIFpJOKr8"
      },
      "source": [
        "**Задание 8**\r\n",
        "\r\n",
        "Выберите только наблюдения, где страна 'United States', 'India' или 'United Kingdom'\r\n",
        "\r\n",
        "Для каждой страны посчитайте общее количество фильмов и сериалов по месяцам выпуска. Столбцы нового сводного датафрейма должны называться, как месяца в признаке month_added, а индексов будет два: страна и тип.\r\n"
      ]
    },
    {
      "cell_type": "code",
      "metadata": {
        "colab": {
          "base_uri": "https://localhost:8080/",
          "height": 257
        },
        "id": "bUIip0YcOM4-",
        "outputId": "01e3379a-3637-409b-ac46-b24da2a093b5"
      },
      "source": [
        "netflix_country = netflix_new.loc[(netflix_new['country'] == 'United States') | (netflix_new['country'] == 'India' ) |  (netflix_new['country'] == 'United Kingdom' ), 'country']\r\n",
        "netflix_type = netflix_new.loc[(netflix_new['country'] == 'United States') | (netflix_new['country'] == 'India' ) |  (netflix_new['country'] == 'United Kingdom' ), 'type']\r\n",
        "\r\n",
        "netflix_test = pd.pivot_table(netflix_new, values='type', index=[netflix_country, netflix_type], columns='month_added', aggfunc=np.count_nonzero)\r\n",
        "\r\n",
        "netflix_test\r\n",
        "\r\n",
        "\r\n"
      ],
      "execution_count": null,
      "outputs": [
        {
          "output_type": "execute_result",
          "data": {
            "text/html": [
              "<div>\n",
              "<style scoped>\n",
              "    .dataframe tbody tr th:only-of-type {\n",
              "        vertical-align: middle;\n",
              "    }\n",
              "\n",
              "    .dataframe tbody tr th {\n",
              "        vertical-align: top;\n",
              "    }\n",
              "\n",
              "    .dataframe thead th {\n",
              "        text-align: right;\n",
              "    }\n",
              "</style>\n",
              "<table border=\"1\" class=\"dataframe\">\n",
              "  <thead>\n",
              "    <tr style=\"text-align: right;\">\n",
              "      <th></th>\n",
              "      <th>month_added</th>\n",
              "      <th>1</th>\n",
              "      <th>2</th>\n",
              "      <th>3</th>\n",
              "      <th>4</th>\n",
              "      <th>5</th>\n",
              "      <th>6</th>\n",
              "      <th>7</th>\n",
              "      <th>8</th>\n",
              "      <th>9</th>\n",
              "      <th>10</th>\n",
              "      <th>11</th>\n",
              "      <th>12</th>\n",
              "    </tr>\n",
              "    <tr>\n",
              "      <th>country</th>\n",
              "      <th>type</th>\n",
              "      <th></th>\n",
              "      <th></th>\n",
              "      <th></th>\n",
              "      <th></th>\n",
              "      <th></th>\n",
              "      <th></th>\n",
              "      <th></th>\n",
              "      <th></th>\n",
              "      <th></th>\n",
              "      <th></th>\n",
              "      <th></th>\n",
              "      <th></th>\n",
              "    </tr>\n",
              "  </thead>\n",
              "  <tbody>\n",
              "    <tr>\n",
              "      <th rowspan=\"2\" valign=\"top\">India</th>\n",
              "      <th>Movie</th>\n",
              "      <td>65</td>\n",
              "      <td>45</td>\n",
              "      <td>83</td>\n",
              "      <td>72</td>\n",
              "      <td>65</td>\n",
              "      <td>40</td>\n",
              "      <td>69</td>\n",
              "      <td>70</td>\n",
              "      <td>55</td>\n",
              "      <td>97</td>\n",
              "      <td>87</td>\n",
              "      <td>104</td>\n",
              "    </tr>\n",
              "    <tr>\n",
              "      <th>TV Show</th>\n",
              "      <td>2</td>\n",
              "      <td>2</td>\n",
              "      <td>12</td>\n",
              "      <td>14</td>\n",
              "      <td>5</td>\n",
              "      <td>7</td>\n",
              "      <td>7</td>\n",
              "      <td>4</td>\n",
              "      <td>1</td>\n",
              "      <td>8</td>\n",
              "      <td>3</td>\n",
              "      <td>6</td>\n",
              "    </tr>\n",
              "    <tr>\n",
              "      <th rowspan=\"2\" valign=\"top\">United Kingdom</th>\n",
              "      <th>Movie</th>\n",
              "      <td>17</td>\n",
              "      <td>16</td>\n",
              "      <td>20</td>\n",
              "      <td>12</td>\n",
              "      <td>18</td>\n",
              "      <td>14</td>\n",
              "      <td>7</td>\n",
              "      <td>18</td>\n",
              "      <td>16</td>\n",
              "      <td>22</td>\n",
              "      <td>8</td>\n",
              "      <td>25</td>\n",
              "    </tr>\n",
              "    <tr>\n",
              "      <th>TV Show</th>\n",
              "      <td>13</td>\n",
              "      <td>17</td>\n",
              "      <td>34</td>\n",
              "      <td>14</td>\n",
              "      <td>10</td>\n",
              "      <td>7</td>\n",
              "      <td>16</td>\n",
              "      <td>22</td>\n",
              "      <td>19</td>\n",
              "      <td>22</td>\n",
              "      <td>9</td>\n",
              "      <td>20</td>\n",
              "    </tr>\n",
              "    <tr>\n",
              "      <th rowspan=\"2\" valign=\"top\">United States</th>\n",
              "      <th>Movie</th>\n",
              "      <td>245</td>\n",
              "      <td>118</td>\n",
              "      <td>156</td>\n",
              "      <td>139</td>\n",
              "      <td>109</td>\n",
              "      <td>112</td>\n",
              "      <td>144</td>\n",
              "      <td>143</td>\n",
              "      <td>128</td>\n",
              "      <td>172</td>\n",
              "      <td>210</td>\n",
              "      <td>174</td>\n",
              "    </tr>\n",
              "    <tr>\n",
              "      <th>TV Show</th>\n",
              "      <td>61</td>\n",
              "      <td>45</td>\n",
              "      <td>49</td>\n",
              "      <td>47</td>\n",
              "      <td>46</td>\n",
              "      <td>43</td>\n",
              "      <td>55</td>\n",
              "      <td>55</td>\n",
              "      <td>81</td>\n",
              "      <td>68</td>\n",
              "      <td>69</td>\n",
              "      <td>80</td>\n",
              "    </tr>\n",
              "  </tbody>\n",
              "</table>\n",
              "</div>"
            ],
            "text/plain": [
              "month_added              1    2    3    4    5   ...   8    9    10   11   12\n",
              "country        type                              ...                         \n",
              "India          Movie     65   45   83   72   65  ...   70   55   97   87  104\n",
              "               TV Show    2    2   12   14    5  ...    4    1    8    3    6\n",
              "United Kingdom Movie     17   16   20   12   18  ...   18   16   22    8   25\n",
              "               TV Show   13   17   34   14   10  ...   22   19   22    9   20\n",
              "United States  Movie    245  118  156  139  109  ...  143  128  172  210  174\n",
              "               TV Show   61   45   49   47   46  ...   55   81   68   69   80\n",
              "\n",
              "[6 rows x 12 columns]"
            ]
          },
          "metadata": {
            "tags": []
          },
          "execution_count": 119
        }
      ]
    }
  ]
}